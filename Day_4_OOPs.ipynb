{
  "nbformat": 4,
  "nbformat_minor": 0,
  "metadata": {
    "colab": {
      "provenance": []
    },
    "kernelspec": {
      "name": "python3",
      "display_name": "Python 3"
    },
    "language_info": {
      "name": "python"
    }
  },
  "cells": [
    {
      "cell_type": "code",
      "execution_count": 17,
      "metadata": {
        "id": "xKhLxp_l9DAZ",
        "outputId": "58fc6e69-8ef5-460d-8c25-41780332256e",
        "colab": {
          "base_uri": "https://localhost:8080/"
        }
      },
      "outputs": [
        {
          "output_type": "stream",
          "name": "stdout",
          "text": [
            "8\n"
          ]
        }
      ],
      "source": [
        "class Company:\n",
        "  cname=\"NTT DATA\"\n",
        "  def __len__(self):\n",
        "    return len(self.cname)\n",
        "\n",
        "ln=Company()\n",
        "print(len(ln))\n",
        "\n",
        ""
      ]
    },
    {
      "cell_type": "code",
      "source": [
        "class Outer:\n",
        "  def __init__(self):\n",
        "    print(\"Outer class constructor\")\n",
        "  def show(self):\n",
        "    print(\"inside the outer class method\")\n",
        "    class Inner:\n",
        "      def __init__(self):\n",
        "        print(\"Inner class constructor\")\n",
        "      def show(self):\n",
        "        print(\"inside the inner class method\")\n",
        "        class Innermost:\n",
        "          def __init__(self):\n",
        "            print(\"Innermost class constructor\")\n",
        "            def show(self):\n",
        "              print(\"inside the innermost class method\")\n",
        "\n",
        "ot=Outer()\n",
        "ot.show()\n",
        "ic=ot.Inner()\n",
        "ic.show()\n",
        "im=ic.Innermost()\n",
        "im.show()\n",
        "\n"
      ],
      "metadata": {
        "id": "crutbdMZ1uzj",
        "outputId": "3e0266ee-bdd6-45dc-c157-2db41ea8d4af",
        "colab": {
          "base_uri": "https://localhost:8080/",
          "height": 245
        }
      },
      "execution_count": 25,
      "outputs": [
        {
          "output_type": "stream",
          "name": "stdout",
          "text": [
            "Outer class constructor\n",
            "inside the outer class method\n"
          ]
        },
        {
          "output_type": "error",
          "ename": "AttributeError",
          "evalue": "'Outer' object has no attribute 'Inner'",
          "traceback": [
            "\u001b[0;31m---------------------------------------------------------------------------\u001b[0m",
            "\u001b[0;31mAttributeError\u001b[0m                            Traceback (most recent call last)",
            "\u001b[0;32m<ipython-input-25-7642868a3e2d>\u001b[0m in \u001b[0;36m<cell line: 0>\u001b[0;34m()\u001b[0m\n\u001b[1;32m     17\u001b[0m \u001b[0mot\u001b[0m\u001b[0;34m=\u001b[0m\u001b[0mOuter\u001b[0m\u001b[0;34m(\u001b[0m\u001b[0;34m)\u001b[0m\u001b[0;34m\u001b[0m\u001b[0;34m\u001b[0m\u001b[0m\n\u001b[1;32m     18\u001b[0m \u001b[0mot\u001b[0m\u001b[0;34m.\u001b[0m\u001b[0mshow\u001b[0m\u001b[0;34m(\u001b[0m\u001b[0;34m)\u001b[0m\u001b[0;34m\u001b[0m\u001b[0;34m\u001b[0m\u001b[0m\n\u001b[0;32m---> 19\u001b[0;31m \u001b[0mic\u001b[0m\u001b[0;34m=\u001b[0m\u001b[0mot\u001b[0m\u001b[0;34m.\u001b[0m\u001b[0mInner\u001b[0m\u001b[0;34m(\u001b[0m\u001b[0;34m)\u001b[0m\u001b[0;34m\u001b[0m\u001b[0;34m\u001b[0m\u001b[0m\n\u001b[0m\u001b[1;32m     20\u001b[0m \u001b[0mic\u001b[0m\u001b[0;34m.\u001b[0m\u001b[0mshow\u001b[0m\u001b[0;34m(\u001b[0m\u001b[0;34m)\u001b[0m\u001b[0;34m\u001b[0m\u001b[0;34m\u001b[0m\u001b[0m\n\u001b[1;32m     21\u001b[0m \u001b[0mim\u001b[0m\u001b[0;34m=\u001b[0m\u001b[0mic\u001b[0m\u001b[0;34m.\u001b[0m\u001b[0mInnermost\u001b[0m\u001b[0;34m(\u001b[0m\u001b[0;34m)\u001b[0m\u001b[0;34m\u001b[0m\u001b[0;34m\u001b[0m\u001b[0m\n",
            "\u001b[0;31mAttributeError\u001b[0m: 'Outer' object has no attribute 'Inner'"
          ]
        }
      ]
    }
  ]
}
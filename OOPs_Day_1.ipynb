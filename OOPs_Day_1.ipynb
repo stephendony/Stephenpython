{
  "nbformat": 4,
  "nbformat_minor": 0,
  "metadata": {
    "colab": {
      "provenance": []
    },
    "kernelspec": {
      "name": "python3",
      "display_name": "Python 3"
    },
    "language_info": {
      "name": "python"
    }
  },
  "cells": [
    {
      "cell_type": "code",
      "source": [
        "print('welcome')"
      ],
      "metadata": {
        "id": "c0gr3U9SDyLm",
        "outputId": "d45a0461-8643-4d65-cddf-a90bc52d7e2b",
        "colab": {
          "base_uri": "https://localhost:8080/"
        }
      },
      "execution_count": 4,
      "outputs": [
        {
          "output_type": "stream",
          "name": "stdout",
          "text": [
            "welcome\n"
          ]
        }
      ]
    },
    {
      "cell_type": "code",
      "source": [
        "class Sample:\n",
        "  def __init__(self): # constructor\n",
        "    self.text=15\n",
        "\n",
        "  def input_data(self): #methods/function\n",
        "    self.text=input(\"Eter the text upto 15 chars only\")\n",
        "\n",
        "  def process_data(self):\n",
        "    self.text=self.text.upper()\n",
        "\n",
        "  def output_data(self):\n",
        "    print(self.text)\n",
        "\n",
        "objt = Sample() # Object creation\n",
        "objt.input_data() # Methods/functions execution\n",
        "objt.process_data()\n",
        "objt.output_data()\n",
        "\n",
        "\n",
        "\n"
      ],
      "metadata": {
        "id": "wreFv7jgJwGq",
        "outputId": "55e987a4-d0c5-4733-fc6d-c5ece50fcbc7",
        "colab": {
          "base_uri": "https://localhost:8080/"
        }
      },
      "execution_count": 5,
      "outputs": [
        {
          "output_type": "stream",
          "name": "stdout",
          "text": [
            "Eter the text upto 15 chars onlystephen dony ehan\n",
            "STEPHEN DONY EHAN\n"
          ]
        }
      ]
    },
    {
      "cell_type": "code",
      "source": [],
      "metadata": {
        "id": "hPXzjzp6VLwF"
      },
      "execution_count": null,
      "outputs": []
    }
  ]
}
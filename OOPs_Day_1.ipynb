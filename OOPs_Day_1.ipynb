{
  "nbformat": 4,
  "nbformat_minor": 0,
  "metadata": {
    "colab": {
      "provenance": []
    },
    "kernelspec": {
      "name": "python3",
      "display_name": "Python 3"
    },
    "language_info": {
      "name": "python"
    }
  },
  "cells": [
    {
      "cell_type": "code",
      "source": [
        "print('welcome')"
      ],
      "metadata": {
        "id": "c0gr3U9SDyLm",
        "colab": {
          "base_uri": "https://localhost:8080/"
        },
        "outputId": "bade89b4-97ea-400d-b594-2d8b2a876321"
      },
      "execution_count": 6,
      "outputs": [
        {
          "output_type": "stream",
          "name": "stdout",
          "text": [
            "welcome\n"
          ]
        }
      ]
    },
    {
      "cell_type": "code",
      "source": [
        "class Sample:\n",
        "  def __init__(self): # constructor\n",
        "    self.text=15\n",
        "\n",
        "  def input_data(self): #methods/function\n",
        "    self.text=input(\"Eter the text upto 15 chars only\")\n",
        "\n",
        "  def process_data(self):\n",
        "    self.text=self.text.upper()\n",
        "\n",
        "  def output_data(self):\n",
        "    print(self.text)\n",
        "\n",
        "objt = Sample() # Object creation\n",
        "objt.input_data() # Methods/functions execution\n",
        "objt.process_data()\n",
        "objt.output_data()\n",
        "\n",
        "\n",
        "\n"
      ],
      "metadata": {
        "colab": {
          "base_uri": "https://localhost:8080/"
        },
        "id": "wreFv7jgJwGq",
        "outputId": "817f2720-7bad-4f02-ba80-05fbcfa17030"
      },
      "execution_count": 7,
      "outputs": [
        {
          "output_type": "stream",
          "name": "stdout",
          "text": [
            "Eter the text upto 15 chars onlyvgj\n",
            "VGJ\n"
          ]
        }
      ]
    },
    {
      "cell_type": "code",
      "source": [
        "class Cal:\n",
        "  def __init__(self,n1,n2,res):\n",
        "    self.n1=n1\n",
        "    self.n2=n2\n",
        "    self.res=res\n",
        "\n",
        "  def add(self):\n",
        "    self.res= self.n1 + self.n2\n",
        "    print(\"Addition of two number:\", self.res)\n",
        "\n",
        "  def sub(self):\n",
        "    self.res= self.n1 - self.n2\n",
        "    print(\"Subtraction of two number:\", self.res)\n",
        "\n",
        "  def mul(self):\n",
        "    self.res= self.n1 * self.n2\n",
        "    print(\"Multiplication of two number:\", self.res)\n",
        "\n",
        "  def div(self):\n",
        "    if self.n2 > 0:\n",
        "      self.res = self.n1 / self.n2\n",
        "      print(\"Divition of two number:\", self.res)\n",
        "    else:\n",
        "      print(\"Divide by zero is not allowed\")\n",
        "\n",
        "cal1 =Cal(50,10,0)\n",
        "cal1.add()\n",
        "cal1.sub()\n",
        "cal1.mul()\n",
        "cal1.div()\n",
        "\n",
        "cal2 =Cal(20,0,0)\n",
        "cal2.add()\n",
        "cal2.sub()\n",
        "cal2.mul()\n",
        "cal2.div()"
      ],
      "metadata": {
        "colab": {
          "base_uri": "https://localhost:8080/"
        },
        "id": "hPXzjzp6VLwF",
        "outputId": "d79e3954-2c97-4de2-b92e-3c8c08124481"
      },
      "execution_count": 18,
      "outputs": [
        {
          "output_type": "stream",
          "name": "stdout",
          "text": [
            "Addition of two number: 60\n",
            "Subtraction of two number: 40\n",
            "Multiplication of two number: 500\n",
            "Divition of two number: 5.0\n",
            "Addition of two number: 20\n",
            "Subtraction of two number: 20\n",
            "Multiplication of two number: 0\n",
            "Divide by zero is not allowed\n"
          ]
        }
      ]
    }
  ]
}